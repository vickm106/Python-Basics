{
  "nbformat": 4,
  "nbformat_minor": 0,
  "metadata": {
    "colab": {
      "provenance": []
    },
    "kernelspec": {
      "name": "python3",
      "display_name": "Python 3"
    },
    "language_info": {
      "name": "python"
    }
  },
  "cells": [
    {
      "cell_type": "markdown",
      "source": [
        "#Functions"
      ],
      "metadata": {
        "id": "XdIgNDRzHdJH"
      }
    },
    {
      "cell_type": "markdown",
      "source": [
        "1. What is Python, and why is it popular?\n",
        "-\n",
        "Python is a high-level, general-purpose programming language known for its readability and versatility. It was created by Guido van Rossum in the late 1980s and has since become one of the most popular programming languages worldwide.\n",
        "\n",
        "- Here's a breakdown of Python's key features and reasons for its popularity:\n",
        "\n",
        "  Readability: Python's syntax is designed to be clear and concise, resembling natural language. This makes it easier to learn and understand, even for beginners.\n",
        "\n",
        "  Versatility: Python can be used for a wide range of applications, including web development, data science, machine learning, scripting, and automation.\n",
        "\n",
        "  Large Community and Libraries: Python has a massive and active community of developers, which means there are abundant resources, libraries, and frameworks available. This makes it easier to find solutions to common problems and learn from others.\n",
        "\n",
        "  Cross-Platform Compatibility: Python code can run on various operating systems, including Windows, macOS, and Linux, making it highly portable.\n",
        "\n",
        "  Open-Source and Free: Python is open-source, meaning it's freely available for use and distribution. This makes it accessible to everyone, regardless of their budget.\n",
        "\n",
        "- Some specific examples of Python's use cases include:\n",
        "\n",
        "  Web Development: Frameworks like Django and Flask allow developers to build complex web applications efficiently.\n",
        "\n",
        "  Data Science and Machine Learning: Libraries like NumPy, Pandas, and Scikit-learn provide powerful tools for data analysis and machine learning tasks.\n",
        "\n",
        "  Scripting and Automation: Python's simple syntax makes it ideal for automating tasks, such as file processing, system administration, and web scraping.\n",
        "\n",
        "  Scientific Computing: Python is widely used in scientific research and engineering due to its numerical computing libraries and visualization tools.\n",
        "2. What is an interpreter in Python?\n",
        "- In Python, an interpreter is a program that reads Python code line by line and executes it directly. It doesn't create a separate, standalone executable file like a compiler does.  It is the bridge between human-readable Python code and the machine code that computer can understand and execute.\n",
        "3. What are pre-defined keywords in Python?\n",
        "- In Python, keywords are predefined reserved words that have special meanings and cannot be used as variable names, function names, or any other identifiers. They form the core of the Python language's syntax and structure.\n",
        "\n",
        "  Here's a list of the common Python keywords:\n",
        "\n",
        "  False: Represents the Boolean value False.  \n",
        "  True: Represents the Boolean value True.  \n",
        "  None: Represents the absence of a value or a null value.  \n",
        "  and: A logical operator that returns True if both operands are True.  \n",
        "  as: Used to create an alias for a module or class.  \n",
        "  break: Exits the current loop.   \n",
        "  class: Used to define a new class.  \n",
        "  continue: Skips the current iteration of a loop and moves to the next one.   \n",
        "  def: Used to define a function.  \n",
        "  del: Deletes a variable or object.  \n",
        "  elif: Used in conditional statements (if-elif-else) after an if statement.  \n",
        "  except: Used in exception handling to catch and handle exceptions.   \n",
        "  for: Used to create a for loop for iterating over a sequence.   \n",
        "  from: Used with import to import specific members from a module.\n",
        "  if: Used to create conditional statements.   \n",
        "  import: Used to import modules into your code.   \n",
        "  in: Used to check if a value is present in a sequence (like a list, tuple, or string).  \n",
        "  is: Checks if two objects are the same object in memory.   \n",
        "  lambda: Used to create anonymous (unnamed) functions.   \n",
        "  not: A logical operator that negates the truth value of an operand.  \n",
        "  or: A logical operator that returns True if at least one of the operands is True.  \n",
        "  pass: A null statement, does nothing. Often used as a placeholder for future code.\n",
        "  raise: Raises an exception.   \n",
        "  return: Exits a function and optionally returns a value.  \n",
        "  try: Used with except to handle exceptions.\n",
        "  while: Used to create a while loop that executes as long as a condition is True.\n",
        "  \n",
        "\n",
        "4. Can keywords be used as variable names?\n",
        "- No, keywords in Python cannot be used as variable names.\n",
        "\n",
        "  Here's why:\n",
        "\n",
        "  Reserved words: Keywords have special meanings within the Python language. They define the structure and syntax of the code.  \n",
        "  Syntax errors: If you try to use a keyword as a variable name, Python will raise a syntax error, indicating that the keyword is reserved for a specific purpose.\n",
        "5. What is mutability in Python?\n",
        "- In Python, mutability refers to the ability to change the value of an object after it has been created.\n",
        "\n",
        "  Mutable objects: Can be modified in-place after they are created. Changes made to the object reflect in all references to that object.\n",
        "\n",
        "  Examples: Lists, dictionaries, sets.  \n",
        "\n",
        "  Immutable objects: Cannot be changed after they are created. A new object must be created if you want to modify its value.\n",
        "\n",
        "  Examples: Integers, floats, strings, tuples\n",
        "6. Why are lists mutable, but tuples are immutable?\n",
        "- In Python, lists are mutable, meaning you can change their contents after they are created. This flexibility makes them ideal for scenarios where you need to dynamically add, remove, or modify elements.\n",
        "\n",
        "  On the other hand, tuples are immutable, meaning their contents cannot be changed once they are created. This immutability offers several advantages\n",
        "7. What is the difference between \"==\" and \"is\" operators in Python?\n",
        "- In Python, == and is are both comparison operators, but they serve different purposes:\n",
        "\n",
        "  == (Equality Operator)\n",
        "\n",
        "  Checks if the values of two objects are equal.\n",
        "  This is the most common way to compare objects for equality.\n",
        "\n",
        "  is (Identity Operator)\n",
        "\n",
        "  Checks if two variables refer to the same object in memory.\n",
        "  It compares the object's memory addresses, not their values.\n",
        "8. What are logical operators in Python?\n",
        "- In Python, logical operators are used to combine or negate boolean expressions. They are essential for controlling the flow of the program based on multiple conditions.\n",
        "9. What is type casting in Python?\n",
        "- Type Casting in Python refers to the process of converting a value of one data type into another.\n",
        "10. What is the difference between implicit and explicit type casting?\n",
        "- Implicit Type Casting\n",
        "\n",
        "  The conversion happens automatically by the Python interpreter without any explicit instruction from the programmer.\n",
        "  Usually occurs when:\n",
        "  Mixing data types in certain operations: For example, when adding an integer to a float, Python automatically converts the integer to a float before performing the addition.\n",
        "\n",
        "  Explicit Type Casting\n",
        "\n",
        "  The programmer explicitly instructs Python to convert the data type using built-in functions like int(), float(), str(), bool(), etc.\n",
        "  Provides more control over the conversion process.\n",
        "11. What is the purpose of conditional statements in Python?\n",
        "- Conditional statements in Python are used to control the flow of your program based on specific conditions. They allow you to execute different blocks of code depending on whether certain conditions are met.    \n",
        "\n",
        "  Making decisions\n",
        "\n",
        "  Controlling program flow\n",
        "\n",
        "  Handling different scenarios\n",
        "\n",
        "  Key conditional statements in python\n",
        "\n",
        "12. How does the elif statement work?\n",
        "- If Statement: The code first checks the condition in the if statement. If the condition is True, the block of code following the if statement is executed, and the rest of the elif and else blocks are skipped.\n",
        "\n",
        "  elif Statements:\n",
        "\n",
        "  If the if condition is False, the code moves to the first elif statement.\n",
        "  If the elif condition is True, the block of code following that elif statement is executed, and the remaining elif and else blocks are skipped.\n",
        "  This process continues for each elif statement.\n",
        "else Statement:\n",
        "\n",
        "  If none of the if or elif conditions are True, the code executes the block of code following the else statement.\n",
        "  The else statement is optional.\n",
        "13. What is the difference between for and while loops?\n",
        "- For Loop\n",
        "\n",
        "  Purpose: Designed for iterating over a sequence of elements (like lists, tuples, strings, etc.)\n",
        "\n",
        "  How it works:\n",
        "\n",
        "  Initialization: The loop starts by assigning the first element of the sequence to a loop variable.\n",
        "  Iteration: The code block within the loop is executed.\n",
        "  Increment: The loop variable is automatically updated to the next element in the sequence.\n",
        "  Condition Check: The loop continues until all elements in the sequence have been processed.\n",
        "\n",
        "  While Loop\n",
        "\n",
        "  Purpose: Used to repeatedly execute a block of code as long as a specific condition is true.\n",
        "\n",
        "  How it works:\n",
        "\n",
        "  Condition Check: The loop starts by checking the condition.\n",
        "  Execution: If the condition is true, the code block within the loop is executed.\n",
        "  Update: The condition must be updated within the loop's body to eventually become false, otherwise it will result in an infinite loop.\n",
        "14. Describe a scenario where a while loop is more suitable than a for loop.\n",
        "- Scenario:\n",
        "\n",
        "  Imagine  writing a game where a player controls a character that needs to reach a specific location on a map.\n",
        "\n",
        "  Using a while loop:\n",
        "\n",
        "\n",
        "              while character_position != target_position:\n",
        "\n",
        "              # Get player input (e.g., move direction)\n",
        "              # Update character_position based on input\n",
        "\n",
        "\n",
        "- This while loop continues to execute as long as the character's position is not equal to the target position. The number of iterations is unknown and depends on the player's actions.\n",
        "\n",
        "   Why while is better\n",
        "\n",
        "  The number of moves required to reach the target is unpredictable and depends on the player's choices.\n",
        "  A for loop would be less suitable because it requires a predetermined number of iterations, which is not known in this scenario.\n",
        "  In essence, while loops excel when:\n",
        "\n",
        "  The number of iterations is uncertain or depends on dynamic conditions.\n",
        "  The loop's termination depends on a specific condition being met, rather than a fixed number of repetitions.\n"
      ],
      "metadata": {
        "id": "nNY8-bCUHqtI"
      }
    },
    {
      "cell_type": "code",
      "source": [
        "# 1. Write a Python program to print \"Hello World!\"\n",
        "\n",
        "print(\"Hello world!\")\n"
      ],
      "metadata": {
        "colab": {
          "base_uri": "https://localhost:8080/"
        },
        "id": "lmwwXbYDFUmD",
        "outputId": "14f85ab1-1f04-4f0c-c11b-2f072629dd66"
      },
      "execution_count": null,
      "outputs": [
        {
          "output_type": "stream",
          "name": "stdout",
          "text": [
            "Hello world!\n"
          ]
        }
      ]
    },
    {
      "cell_type": "code",
      "source": [
        "# 2. Write a Python program that displays your name and age.\n",
        "\n",
        "print (\"my_name is\", \"Vikas Maurya\", \"and I am\", 26, \"years old.\")"
      ],
      "metadata": {
        "colab": {
          "base_uri": "https://localhost:8080/"
        },
        "id": "JQFVHj0qKlmw",
        "outputId": "813c0488-132f-4335-a452-09ed8506b53f"
      },
      "execution_count": null,
      "outputs": [
        {
          "output_type": "stream",
          "name": "stdout",
          "text": [
            "my_name is Vikas Maurya and I am 26 years old.\n"
          ]
        }
      ]
    },
    {
      "cell_type": "code",
      "source": [
        "# 3. Write code print all the pre-defined keywords in python using the keyword library.\n",
        "\n",
        "import keyword\n",
        "print(keyword.kwlist)\n"
      ],
      "metadata": {
        "colab": {
          "base_uri": "https://localhost:8080/"
        },
        "id": "R50z4M82Ks_Q",
        "outputId": "21ef1a04-09b6-4213-999e-04a9d7d22267"
      },
      "execution_count": null,
      "outputs": [
        {
          "output_type": "stream",
          "name": "stdout",
          "text": [
            "['False', 'None', 'True', 'and', 'as', 'assert', 'async', 'await', 'break', 'class', 'continue', 'def', 'del', 'elif', 'else', 'except', 'finally', 'for', 'from', 'global', 'if', 'import', 'in', 'is', 'lambda', 'nonlocal', 'not', 'or', 'pass', 'raise', 'return', 'try', 'while', 'with', 'yield']\n"
          ]
        }
      ]
    },
    {
      "cell_type": "code",
      "source": [
        "# 4. Write a program that checks if a given word is a Python keyword.\n",
        "\n",
        "import keyword\n",
        "\n",
        "def is_python_keyword(word):\n",
        "  \"\"\"\n",
        "  Checks if the given word is a Python keyword.\n",
        "\n",
        "  Args:\n",
        "    word: The word to be checked.\n",
        "\n",
        "  Returns:\n",
        "    True if the word is a Python keyword, False otherwise.\n",
        "  \"\"\"\n",
        "  return keyword.iskeyword(word)\n",
        "\n",
        "# Get input from the user\n",
        "word = input(\"Enter a word: \")\n",
        "\n",
        "# Check if the word is a Python keyword\n",
        "if is_python_keyword(word):\n",
        "  print(f\"'{word}' is a Python keyword.\")\n",
        "else:\n",
        "  print(f\"'{word}' is not a Python keyword.\")"
      ],
      "metadata": {
        "id": "Wjq55_uWEtxa",
        "colab": {
          "base_uri": "https://localhost:8080/"
        },
        "outputId": "2ead41a3-a3d9-4c97-9cfa-51d45678a2b8"
      },
      "execution_count": 2,
      "outputs": [
        {
          "output_type": "stream",
          "name": "stdout",
          "text": [
            "Enter a word: is\n",
            "'is' is a Python keyword.\n"
          ]
        }
      ]
    },
    {
      "cell_type": "markdown",
      "source": [],
      "metadata": {
        "id": "Xj4DEJtAGjME"
      }
    },
    {
      "cell_type": "code",
      "source": [
        "# 5. Create a list and tuple in Python, and demonstrate how attempting to change an element works differently for each.\n",
        "\n",
        "# Create a list\n",
        "my_list = [1, 2, 3]\n",
        "\n",
        "# Attempt to change an element in the list\n",
        "my_list[1] = 5\n",
        "\n",
        "print(\"Modified list:\", my_list)  # Output: Modified list: [1, 5, 3]\n",
        "\n",
        "# Create a tuple\n",
        "my_tuple = (10, 20, 30)\n",
        "\n",
        "# Attempt to change an element in the tuple\n",
        "try:\n",
        "    my_tuple[1] = 25\n",
        "except TypeError:\n",
        "    print(\"Tuples are immutable. Cannot change an element.\")\n",
        "\n",
        "print(\"Original tuple:\", my_tuple)  # Output: Original tuple: (10, 20, 30)"
      ],
      "metadata": {
        "id": "bqZTIPxL06WO",
        "colab": {
          "base_uri": "https://localhost:8080/"
        },
        "outputId": "26f005f0-0516-4976-8e52-9ed8305644cc"
      },
      "execution_count": 1,
      "outputs": [
        {
          "output_type": "stream",
          "name": "stdout",
          "text": [
            "Modified list: [1, 5, 3]\n",
            "Tuples are immutable. Cannot change an element.\n",
            "Original tuple: (10, 20, 30)\n"
          ]
        }
      ]
    },
    {
      "cell_type": "code",
      "source": [
        "# 6. Write a function to demonstrate the behaviour of mutable and immutable arguments.\n",
        "\n",
        "def modify_data(data):\n",
        "  \"\"\"\n",
        "  Demonstrates the behavior of mutable and immutable arguments.\n",
        "\n",
        "  Args:\n",
        "    data: The data to be modified. Can be a list or a tuple.\n",
        "\n",
        "  Returns:\n",
        "    None\n",
        "  \"\"\"\n",
        "\n",
        "  # Attempt to modify the data in-place\n",
        "  try:\n",
        "    data[0] = \"modified\"\n",
        "  except TypeError:\n",
        "    print(\"Cannot modify immutable data (e.g., tuple)\")\n",
        "\n",
        "# Create a mutable list\n",
        "my_list = [1, 2, 3]\n",
        "\n",
        "# Create an immutable tuple\n",
        "my_tuple = (10, 20, 30)\n",
        "\n",
        "# Call the function with the list\n",
        "modify_data(my_list)\n",
        "print(\"Modified list:\", my_list)  # Output: Modified list: ['modified', 2, 3]\n",
        "\n",
        "# Call the function with the tuple\n",
        "modify_data(my_tuple)\n",
        "print(\"Original tuple:\", my_tuple)  # Output: Original tuple: (10, 20, 30)"
      ],
      "metadata": {
        "id": "hMzHYhlI1t1J",
        "colab": {
          "base_uri": "https://localhost:8080/"
        },
        "outputId": "86716e1f-fc0a-41bf-d2b0-0103d44883a7"
      },
      "execution_count": 3,
      "outputs": [
        {
          "output_type": "stream",
          "name": "stdout",
          "text": [
            "Modified list: ['modified', 2, 3]\n",
            "Cannot modify immutable data (e.g., tuple)\n",
            "Original tuple: (10, 20, 30)\n"
          ]
        }
      ]
    },
    {
      "cell_type": "code",
      "source": [
        "# 8.Write a program to demonstrate the use of local operators.\n",
        "\n",
        "def local_operator_example():\n",
        "  \"\"\"\n",
        "  Demonstrates the use of local operators in Python.\n",
        "\n",
        "  This function defines and uses local variables within its scope.\n",
        "  \"\"\"\n",
        "  x = 10  # Local variable within the function\n",
        "\n",
        "  def inner_function():\n",
        "    \"\"\"\n",
        "    Inner function that has access to the outer function's local variables.\n",
        "    \"\"\"\n",
        "    nonlocal x  # Declare x as nonlocal to modify the outer x\n",
        "    x += 5\n",
        "    print(\"Inner function: x =\", x)\n",
        "\n",
        "  inner_function()\n",
        "  print(\"Outer function: x =\", x)\n",
        "\n",
        "if __name__ == \"__main__\":\n",
        "  local_operator_example()"
      ],
      "metadata": {
        "id": "c_4gHr_A2vWi",
        "colab": {
          "base_uri": "https://localhost:8080/"
        },
        "outputId": "4290ac45-3673-46b5-d07d-7989f23d4e2f"
      },
      "execution_count": 4,
      "outputs": [
        {
          "output_type": "stream",
          "name": "stdout",
          "text": [
            "Inner function: x = 15\n",
            "Outer function: x = 15\n"
          ]
        }
      ]
    },
    {
      "cell_type": "code",
      "source": [
        "# 9. Write a python Program to convert user input from string to integer, float and boolean types.\n",
        "\n",
        "def convert_input(user_input):\n",
        "  \"\"\"\n",
        "  Converts user input from string to integer, float, and boolean types.\n",
        "\n",
        "  Args:\n",
        "    user_input: The input string to be converted.\n",
        "\n",
        "  Returns:\n",
        "    A tuple containing the converted integer, float, and boolean values.\n",
        "  \"\"\"\n",
        "\n",
        "  try:\n",
        "    integer_value = int(user_input)\n",
        "  except ValueError:\n",
        "    integer_value = None\n",
        "\n",
        "  try:\n",
        "    float_value = float(user_input)\n",
        "  except ValueError:\n",
        "    float_value = None\n",
        "\n",
        "  # Convert to boolean based on truthiness of the string\n",
        "  boolean_value = bool(user_input)\n",
        "\n",
        "  return integer_value, float_value, boolean_value\n",
        "\n",
        "# Get user input\n",
        "user_input = input(\"Enter a value: \")\n",
        "\n",
        "# Convert and print the results\n",
        "integer, float_value, boolean_value = convert_input(user_input)\n",
        "\n",
        "print(f\"Integer: {integer}\")\n",
        "print(f\"Float: {float_value}\")\n",
        "print(f\"Boolean: {boolean_value}\")"
      ],
      "metadata": {
        "colab": {
          "base_uri": "https://localhost:8080/"
        },
        "id": "-BbJLICl4xj3",
        "outputId": "311ac64b-52b1-4c1a-84f7-2155c5400f14"
      },
      "execution_count": 5,
      "outputs": [
        {
          "output_type": "stream",
          "name": "stdout",
          "text": [
            "Enter a value: float\n",
            "Integer: None\n",
            "Float: None\n",
            "Boolean: True\n"
          ]
        }
      ]
    },
    {
      "cell_type": "code",
      "source": [
        "# 10. Write code to demonstrate type casting with list elements.\n",
        "\n",
        "# Create a list with mixed data types\n",
        "my_list = [10, 20.5, \"hello\", True]\n",
        "\n",
        "# Type casting to integer\n",
        "integer_list = [int(x) for x in my_list if type(x) == int or type(x) == float]\n",
        "print(\"Integer list:\", integer_list)\n",
        "\n",
        "# Type casting to float\n",
        "float_list = [float(x) for x in my_list if type(x) == int or type(x) == float]\n",
        "print(\"Float list:\", float_list)\n",
        "\n",
        "# Type casting to string\n",
        "string_list = [str(x) for x in my_list]\n",
        "print(\"String list:\", string_list)\n",
        "\n",
        "# Type casting to boolean (using truthiness)\n",
        "boolean_list = [bool(x) for x in my_list]\n",
        "print(\"Boolean list:\", boolean_list)"
      ],
      "metadata": {
        "colab": {
          "base_uri": "https://localhost:8080/"
        },
        "id": "eAOHV0mn5dDO",
        "outputId": "eb006af6-7c69-49ea-d4ab-a437017b0d4a"
      },
      "execution_count": 6,
      "outputs": [
        {
          "output_type": "stream",
          "name": "stdout",
          "text": [
            "Integer list: [10, 20]\n",
            "Float list: [10.0, 20.5]\n",
            "String list: ['10', '20.5', 'hello', 'True']\n",
            "Boolean list: [True, True, True, True]\n"
          ]
        }
      ]
    },
    {
      "cell_type": "code",
      "source": [
        "# 11. Write a program that checks if a number is positive, negative, or zero.\n",
        "\n",
        "def check_number(num):\n",
        "  \"\"\"\n",
        "  Checks if a number is positive, negative, or zero.\n",
        "\n",
        "  Args:\n",
        "    num: The number to be checked.\n",
        "\n",
        "  Returns:\n",
        "    \"Positive\" if the number is greater than zero,\n",
        "    \"Negative\" if the number is less than zero,\n",
        "    \"Zero\" if the number is equal to zero.\n",
        "  \"\"\"\n",
        "  if num > 0:\n",
        "    return \"Positive\"\n",
        "  elif num < 0:\n",
        "    return \"Negative\"\n",
        "  else:\n",
        "    return \"Zero\"\n",
        "\n",
        "# Get input from the user\n",
        "number = float(input(\"Enter a number: \"))\n",
        "\n",
        "# Check and print the result\n",
        "result = check_number(number)\n",
        "print(f\"The number is: {result}\")"
      ],
      "metadata": {
        "colab": {
          "base_uri": "https://localhost:8080/"
        },
        "id": "JEEllLsO51EM",
        "outputId": "086d67ad-fd66-4f50-e805-2628f14cb2c7"
      },
      "execution_count": 7,
      "outputs": [
        {
          "output_type": "stream",
          "name": "stdout",
          "text": [
            "Enter a number: 5\n",
            "The number is: Positive\n"
          ]
        }
      ]
    },
    {
      "cell_type": "code",
      "source": [
        "# 12. Write a for loop to print numbers from 1 to 10.\n",
        "\n",
        "for i in range(1, 11):\n",
        "  print(i)"
      ],
      "metadata": {
        "colab": {
          "base_uri": "https://localhost:8080/"
        },
        "id": "LlNK_6ap7IZo",
        "outputId": "d7cf48d5-be70-4d37-e272-f22bebdb5f4e"
      },
      "execution_count": 8,
      "outputs": [
        {
          "output_type": "stream",
          "name": "stdout",
          "text": [
            "1\n",
            "2\n",
            "3\n",
            "4\n",
            "5\n",
            "6\n",
            "7\n",
            "8\n",
            "9\n",
            "10\n"
          ]
        }
      ]
    },
    {
      "cell_type": "code",
      "source": [
        "# 13. Write a Python program to find the sum of all even numbers between 1 and 50.\n",
        "\n",
        "# Initialize a variable to store the sum\n",
        "sum_of_even_numbers = 0\n",
        "\n",
        "# Iterate through numbers from 1 to 50\n",
        "for i in range(1, 51):\n",
        "  # Check if the number is even\n",
        "  if i % 2 == 0:\n",
        "    # Add the even number to the sum\n",
        "    sum_of_even_numbers += i\n",
        "\n",
        "# Print the sum of even numbers\n",
        "print(\"Sum of even numbers between 1 and 50:\", sum_of_even_numbers)"
      ],
      "metadata": {
        "colab": {
          "base_uri": "https://localhost:8080/"
        },
        "id": "HyDC0GA87mDN",
        "outputId": "29fbb8d1-99f1-4c1a-e9a2-323767f1bf21"
      },
      "execution_count": 9,
      "outputs": [
        {
          "output_type": "stream",
          "name": "stdout",
          "text": [
            "Sum of even numbers between 1 and 50: 650\n"
          ]
        }
      ]
    },
    {
      "cell_type": "code",
      "source": [
        "# 14. Write a program to reverse a string using a while loop.\n",
        "\n",
        "def reverse_string(s):\n",
        "  \"\"\"\n",
        "  Reverses a given string using a while loop.\n",
        "\n",
        "  Args:\n",
        "    s: The input string.\n",
        "\n",
        "  Returns:\n",
        "    The reversed string.\n",
        "  \"\"\"\n",
        "  reversed_str = \"\"\n",
        "  i = len(s) - 1  # Initialize index to the last character\n",
        "\n",
        "  while i >= 0:\n",
        "    reversed_str += s[i]\n",
        "    i -= 1\n",
        "\n",
        "  return reversed_str\n",
        "\n",
        "# Get input from the user\n",
        "input_string = input(\"Enter a string: \")\n",
        "\n",
        "# Reverse the string\n",
        "reversed_string = reverse_string(input_string)\n",
        "\n",
        "# Print the reversed string\n",
        "print(\"Reversed string:\", reversed_string)"
      ],
      "metadata": {
        "colab": {
          "base_uri": "https://localhost:8080/"
        },
        "id": "bxQfPBIQ8AVm",
        "outputId": "24089764-78cf-4e9d-d251-c73bcf7783cf"
      },
      "execution_count": 10,
      "outputs": [
        {
          "output_type": "stream",
          "name": "stdout",
          "text": [
            "Enter a string: pw\n",
            "Reversed string: wp\n"
          ]
        }
      ]
    },
    {
      "cell_type": "code",
      "source": [
        "# 15. Write a Python program to calculate the factorial of a number provided by the user using a while loop.\n",
        "\n",
        "def factorial(n):\n",
        "  \"\"\"\n",
        "  Calculates the factorial of a non-negative integer using a while loop.\n",
        "\n",
        "  Args:\n",
        "    n: The non-negative integer.\n",
        "\n",
        "  Returns:\n",
        "    The factorial of n.\n",
        "  \"\"\"\n",
        "  if n < 0:\n",
        "    return \"Factorial is not defined for negative numbers.\"\n",
        "  elif n == 0:\n",
        "    return 1\n",
        "  else:\n",
        "    factorial = 1\n",
        "    while n > 0:\n",
        "      factorial *= n\n",
        "      n -= 1\n",
        "    return factorial\n",
        "\n",
        "# Get input from the user\n",
        "num = int(input(\"Enter a non-negative integer: \"))\n",
        "\n",
        "# Calculate and print the factorial\n",
        "result = factorial(num)\n",
        "print(\"Factorial of\", num, \"is\", result)"
      ],
      "metadata": {
        "colab": {
          "base_uri": "https://localhost:8080/"
        },
        "id": "D53Ddlbp8XXT",
        "outputId": "5c013a6f-0fe3-464c-978d-1d3bcd1eabd5"
      },
      "execution_count": 11,
      "outputs": [
        {
          "output_type": "stream",
          "name": "stdout",
          "text": [
            "Enter a non-negative integer: 5\n",
            "Factorial of 5 is 120\n"
          ]
        }
      ]
    },
    {
      "cell_type": "code",
      "source": [],
      "metadata": {
        "id": "XTRjzpMh85WV"
      },
      "execution_count": null,
      "outputs": []
    }
  ]
}